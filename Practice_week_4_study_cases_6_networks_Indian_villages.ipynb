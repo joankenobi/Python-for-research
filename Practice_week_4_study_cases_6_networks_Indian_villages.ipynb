{
  "nbformat": 4,
  "nbformat_minor": 0,
  "metadata": {
    "colab": {
      "name": "Practice week 4 study cases 6 networks Indian villages",
      "provenance": [],
      "collapsed_sections": []
    },
    "kernelspec": {
      "name": "python3",
      "display_name": "Python 3"
    },
    "language_info": {
      "name": "python"
    }
  },
  "cells": [
    {
      "cell_type": "markdown",
      "source": [
        "##4.3.2: Basics of NetworkX\n",
        "Enunciados de nivel 2 podrían ser creados por proveedores del curso en el futuro.\n",
        "\n",
        "In this video, you will...\n",
        "\n",
        ">Learn how to use the NetworkX module to create and manipulate network graphs\n"
      ],
      "metadata": {
        "id": "n6AId_ENfgMh"
      }
    },
    {
      "cell_type": "code",
      "execution_count": null,
      "metadata": {
        "id": "OGlrzHZ51Ztl"
      },
      "outputs": [],
      "source": [
        "import networkx as nx"
      ]
    },
    {
      "cell_type": "code",
      "source": [
        "G= nx.Graph()"
      ],
      "metadata": {
        "id": "BoDMqqC54Xr_"
      },
      "execution_count": null,
      "outputs": []
    },
    {
      "cell_type": "markdown",
      "source": [
        "<h1>Agregamos nodos"
      ],
      "metadata": {
        "id": "aQLo8i3R-skV"
      }
    },
    {
      "cell_type": "code",
      "source": [
        "G.add_node(3) \n",
        "G.nodes"
      ],
      "metadata": {
        "colab": {
          "base_uri": "https://localhost:8080/"
        },
        "id": "J360kiLVMI9D",
        "outputId": "253c8867-1f4c-40c4-8168-838b384f91b9"
      },
      "execution_count": null,
      "outputs": [
        {
          "output_type": "execute_result",
          "data": {
            "text/plain": [
              "NodeView((3,))"
            ]
          },
          "metadata": {},
          "execution_count": 3
        }
      ]
    },
    {
      "cell_type": "markdown",
      "source": [
        "<h1>Add nodes from a list"
      ],
      "metadata": {
        "id": "GJDzOqZoc7P4"
      }
    },
    {
      "cell_type": "code",
      "source": [
        "G.add_nodes_from([2,\"t\",55,True])\n",
        "G.nodes"
      ],
      "metadata": {
        "colab": {
          "base_uri": "https://localhost:8080/"
        },
        "id": "v7CzRihMOtSF",
        "outputId": "1f2ea58f-d139-4b59-e127-df7e74cec9fc"
      },
      "execution_count": null,
      "outputs": [
        {
          "output_type": "execute_result",
          "data": {
            "text/plain": [
              "NodeView((3, 2, 't', 55, True))"
            ]
          },
          "metadata": {},
          "execution_count": 4
        }
      ]
    },
    {
      "cell_type": "markdown",
      "source": [
        "<h1>Add vertices"
      ],
      "metadata": {
        "id": "Qa5-GMhvdPw_"
      }
    },
    {
      "cell_type": "code",
      "source": [
        "G.add_edge(5,True)\n",
        "G.edges"
      ],
      "metadata": {
        "colab": {
          "base_uri": "https://localhost:8080/"
        },
        "id": "Ixk8H5PjPEyv",
        "outputId": "da6d25d7-1016-4b27-cb8c-250c8cb8dd68"
      },
      "execution_count": null,
      "outputs": [
        {
          "output_type": "execute_result",
          "data": {
            "text/plain": [
              "EdgeView([(True, 5)])"
            ]
          },
          "metadata": {},
          "execution_count": 5
        }
      ]
    },
    {
      "cell_type": "code",
      "source": [
        "G.add_edges_from([(2,3),(\"t\",\"G\")])\n",
        "G.edges"
      ],
      "metadata": {
        "colab": {
          "base_uri": "https://localhost:8080/"
        },
        "id": "i8Hpn6ugPPg_",
        "outputId": "dfdd208a-2d45-4ae6-8bc0-fcd152afbcb1"
      },
      "execution_count": null,
      "outputs": [
        {
          "output_type": "execute_result",
          "data": {
            "text/plain": [
              "EdgeView([(3, 2), ('t', 'G'), (True, 5)])"
            ]
          },
          "metadata": {},
          "execution_count": 6
        }
      ]
    },
    {
      "cell_type": "code",
      "source": [
        "G.nodes"
      ],
      "metadata": {
        "colab": {
          "base_uri": "https://localhost:8080/"
        },
        "id": "hS6I0Z21P8Uo",
        "outputId": "064e0253-6e1a-4dbc-a89a-b87573ca4580"
      },
      "execution_count": null,
      "outputs": [
        {
          "output_type": "execute_result",
          "data": {
            "text/plain": [
              "NodeView((3, 2, 't', 55, True, 5, 'G'))"
            ]
          },
          "metadata": {},
          "execution_count": 7
        }
      ]
    },
    {
      "cell_type": "markdown",
      "source": [
        "<h1>Delete node therefore delete its respective edge"
      ],
      "metadata": {
        "id": "VRiCEovrdYgr"
      }
    },
    {
      "cell_type": "code",
      "source": [
        "\n",
        "G.remove_node(\"G\")"
      ],
      "metadata": {
        "id": "_1hk72nObP0e"
      },
      "execution_count": null,
      "outputs": []
    },
    {
      "cell_type": "code",
      "source": [
        "G.edges, G.number_of_edges(),G.number_of_nodes()"
      ],
      "metadata": {
        "colab": {
          "base_uri": "https://localhost:8080/"
        },
        "id": "4EegR_NTbkDV",
        "outputId": "5fcc41ca-d4e4-43d1-8c07-9c7810d0b734"
      },
      "execution_count": null,
      "outputs": [
        {
          "output_type": "execute_result",
          "data": {
            "text/plain": [
              "(EdgeView([(3, 2), (True, 5)]), 2, 6)"
            ]
          },
          "metadata": {},
          "execution_count": 9
        }
      ]
    },
    {
      "cell_type": "code",
      "source": [
        "G = nx.Graph()\n",
        "G.add_nodes_from(1,2,3,4)\n",
        "G.add_edges_from((1,2),(3,4))\n",
        "G.number_of_nodes(), G.number_of_edges()"
      ],
      "metadata": {
        "colab": {
          "base_uri": "https://localhost:8080/",
          "height": 219
        },
        "id": "pucCfjFofHkp",
        "outputId": "82eb83f9-2ccc-42a6-f9c8-f8dd10f4d7bc"
      },
      "execution_count": null,
      "outputs": [
        {
          "output_type": "error",
          "ename": "TypeError",
          "evalue": "ignored",
          "traceback": [
            "\u001b[0;31m---------------------------------------------------------------------------\u001b[0m",
            "\u001b[0;31mTypeError\u001b[0m                                 Traceback (most recent call last)",
            "\u001b[0;32m<ipython-input-10-fed8fcf57822>\u001b[0m in \u001b[0;36m<module>\u001b[0;34m()\u001b[0m\n\u001b[1;32m      1\u001b[0m \u001b[0mG\u001b[0m \u001b[0;34m=\u001b[0m \u001b[0mnx\u001b[0m\u001b[0;34m.\u001b[0m\u001b[0mGraph\u001b[0m\u001b[0;34m(\u001b[0m\u001b[0;34m)\u001b[0m\u001b[0;34m\u001b[0m\u001b[0;34m\u001b[0m\u001b[0m\n\u001b[0;32m----> 2\u001b[0;31m \u001b[0mG\u001b[0m\u001b[0;34m.\u001b[0m\u001b[0madd_nodes_from\u001b[0m\u001b[0;34m(\u001b[0m\u001b[0;36m1\u001b[0m\u001b[0;34m,\u001b[0m\u001b[0;36m2\u001b[0m\u001b[0;34m,\u001b[0m\u001b[0;36m3\u001b[0m\u001b[0;34m,\u001b[0m\u001b[0;36m4\u001b[0m\u001b[0;34m)\u001b[0m\u001b[0;34m\u001b[0m\u001b[0;34m\u001b[0m\u001b[0m\n\u001b[0m\u001b[1;32m      3\u001b[0m \u001b[0mG\u001b[0m\u001b[0;34m.\u001b[0m\u001b[0madd_edges_from\u001b[0m\u001b[0;34m(\u001b[0m\u001b[0;34m(\u001b[0m\u001b[0;36m1\u001b[0m\u001b[0;34m,\u001b[0m\u001b[0;36m2\u001b[0m\u001b[0;34m)\u001b[0m\u001b[0;34m,\u001b[0m\u001b[0;34m(\u001b[0m\u001b[0;36m3\u001b[0m\u001b[0;34m,\u001b[0m\u001b[0;36m4\u001b[0m\u001b[0;34m)\u001b[0m\u001b[0;34m)\u001b[0m\u001b[0;34m\u001b[0m\u001b[0;34m\u001b[0m\u001b[0m\n\u001b[1;32m      4\u001b[0m \u001b[0mG\u001b[0m\u001b[0;34m.\u001b[0m\u001b[0mnumber_of_nodes\u001b[0m\u001b[0;34m(\u001b[0m\u001b[0;34m)\u001b[0m\u001b[0;34m,\u001b[0m \u001b[0mG\u001b[0m\u001b[0;34m.\u001b[0m\u001b[0mnumber_of_edges\u001b[0m\u001b[0;34m(\u001b[0m\u001b[0;34m)\u001b[0m\u001b[0;34m\u001b[0m\u001b[0;34m\u001b[0m\u001b[0m\n",
            "\u001b[0;31mTypeError\u001b[0m: add_nodes_from() takes 2 positional arguments but 5 were given"
          ]
        }
      ]
    },
    {
      "cell_type": "markdown",
      "source": [
        "##4.3.3: Graph Visualization\n",
        "\n",
        "In this video, you will...\n",
        "\n",
        ">      Learn how to use networkx to visualize a graph\n"
      ],
      "metadata": {
        "id": "Roc9hjOYf-qL"
      }
    },
    {
      "cell_type": "code",
      "source": [
        "import networkx as nx\n",
        "import matplotlib.pyplot as plt"
      ],
      "metadata": {
        "id": "fjSjrc4hgL-B"
      },
      "execution_count": null,
      "outputs": []
    },
    {
      "cell_type": "code",
      "source": [
        "G=nx.karate_club_graph()"
      ],
      "metadata": {
        "id": "JmjBUbN8H6Qt"
      },
      "execution_count": null,
      "outputs": []
    },
    {
      "cell_type": "code",
      "source": [
        "print(G)\n",
        "print(G.edges)\n",
        "print(G.nodes)"
      ],
      "metadata": {
        "id": "MgLTrM4UH-ud"
      },
      "execution_count": null,
      "outputs": []
    },
    {
      "cell_type": "code",
      "source": [
        "nx.draw(G,with_labels=True,node_color=\"green\",edge_color=\"blue\")"
      ],
      "metadata": {
        "id": "FZG3i4crIXvT"
      },
      "execution_count": null,
      "outputs": []
    },
    {
      "cell_type": "code",
      "source": [
        "G.degree()"
      ],
      "metadata": {
        "id": "jRSWurf2KAeX"
      },
      "execution_count": null,
      "outputs": []
    },
    {
      "cell_type": "code",
      "source": [
        "#pass a node ID and return the numbers of edge asociate\n",
        "G.degree(1)"
      ],
      "metadata": {
        "id": "spA30rtxKR9b"
      },
      "execution_count": null,
      "outputs": []
    },
    {
      "cell_type": "code",
      "source": [
        "#the same but is better use the metode\n",
        "G.degree()[0],G.degree([1,2])"
      ],
      "metadata": {
        "id": "twFdvKGZKjFu"
      },
      "execution_count": null,
      "outputs": []
    },
    {
      "cell_type": "code",
      "source": [
        "G.degree(0) is G.degree()[0]"
      ],
      "metadata": {
        "id": "JaBxA-n6LpD8"
      },
      "execution_count": null,
      "outputs": []
    },
    {
      "cell_type": "markdown",
      "source": [
        "##4.3.4: Random Graphs\n",
        "\n",
        "In this video, you will...\n",
        "\n",
        ">        Learn how to write a function to build an Erdős-Rényi graph\n"
      ],
      "metadata": {
        "id": "oMJ2AxBEhfM8"
      }
    },
    {
      "cell_type": "code",
      "source": [
        "import networkx as nx\n",
        "import matplotlib.pyplot as plt\n",
        "from scipy.stats import bernoulli"
      ],
      "metadata": {
        "id": "nAgVBRqWjFGC"
      },
      "execution_count": null,
      "outputs": []
    },
    {
      "cell_type": "code",
      "source": [
        "N,p=20,0.2"
      ],
      "metadata": {
        "id": "GJAuYTuIzIYY"
      },
      "execution_count": null,
      "outputs": []
    },
    {
      "cell_type": "code",
      "source": [
        "G=nx.Graph()\n",
        "G.add_nodes_from(range(N))\n",
        "for node1 in G.nodes():\n",
        "  for node2 in G.nodes():\n",
        "    if bernoulli.rvs(p=p):\n",
        "      G.add_edge(node1,node2)"
      ],
      "metadata": {
        "id": "9FY4qZ2Sh93y"
      },
      "execution_count": null,
      "outputs": []
    },
    {
      "cell_type": "code",
      "source": [
        "G.size()"
      ],
      "metadata": {
        "colab": {
          "base_uri": "https://localhost:8080/"
        },
        "id": "Ma2jOfV4k7BU",
        "outputId": "8d7ddb9e-d327-4634-ed88-a99a3a07e022"
      },
      "execution_count": null,
      "outputs": [
        {
          "output_type": "execute_result",
          "data": {
            "text/plain": [
              "68"
            ]
          },
          "metadata": {},
          "execution_count": 7
        }
      ]
    },
    {
      "cell_type": "code",
      "source": [
        "print(G)"
      ],
      "metadata": {
        "colab": {
          "base_uri": "https://localhost:8080/"
        },
        "id": "OLpWQFtImASY",
        "outputId": "12802913-3c1c-480b-aa8d-9606cd614946"
      },
      "execution_count": null,
      "outputs": [
        {
          "output_type": "stream",
          "name": "stdout",
          "text": [
            "Graph with 20 nodes and 68 edges\n"
          ]
        }
      ]
    },
    {
      "cell_type": "markdown",
      "source": [
        "<h1> Este metodo toma en cuenta dos veces un mismo par, pero queremos tomarlo en cuenta solo una vez. ejemplo (10,2) y (2,10)"
      ],
      "metadata": {
        "id": "he3DOHIWpKRG"
      }
    },
    {
      "cell_type": "code",
      "source": [
        "nx.draw(G,node_color=\"c\",edge_color=\"gray\")"
      ],
      "metadata": {
        "colab": {
          "base_uri": "https://localhost:8080/"
        },
        "id": "OIWto04BmJd7",
        "outputId": "b62fa65d-ecd3-46d8-e506-e8787dd74a32"
      },
      "execution_count": null,
      "outputs": [
        {
          "output_type": "display_data",
          "data": {
            "image/png": "[encoded data removed]",
            "text/plain": [
              "<Figure size 432x288 with 1 Axes>"
            ]
          },
          "metadata": {}
        }
      ]
    },
    {
      "cell_type": "code",
      "source": [
        "G.degree()"
      ],
      "metadata": {
        "colab": {
          "base_uri": "https://localhost:8080/"
        },
        "id": "v4OxLz70oEWn",
        "outputId": "34748226-13a3-4f3f-b70d-22c1a05d054a"
      },
      "execution_count": null,
      "outputs": [
        {
          "output_type": "execute_result",
          "data": {
            "text/plain": [
              "DegreeView({0: 10, 1: 10, 2: 10, 3: 7, 4: 6, 5: 5, 6: 8, 7: 5, 8: 5, 9: 4, 10: 8, 11: 5, 12: 7, 13: 7, 14: 6, 15: 6, 16: 6, 17: 3, 18: 9, 19: 9})"
            ]
          },
          "metadata": {},
          "execution_count": 10
        }
      ]
    },
    {
      "cell_type": "code",
      "source": [
        "list(G.edges)"
      ],
      "metadata": {
        "colab": {
          "base_uri": "https://localhost:8080/"
        },
        "id": "ONOVKi-aoPso",
        "outputId": "e40927e4-650b-4eb5-e154-1a5b83bb455e"
      },
      "execution_count": null,
      "outputs": [
        {
          "output_type": "execute_result",
          "data": {
            "text/plain": [
              "[(0, 0),\n",
              " (0, 9),\n",
              " (0, 10),\n",
              " (0, 11),\n",
              " (0, 14),\n",
              " (0, 16),\n",
              " (0, 2),\n",
              " (0, 6),\n",
              " (0, 18),\n",
              " (1, 6),\n",
              " (1, 7),\n",
              " (1, 9),\n",
              " (1, 10),\n",
              " (1, 12),\n",
              " (1, 13),\n",
              " (1, 5),\n",
              " (1, 8),\n",
              " (1, 18),\n",
              " (1, 19),\n",
              " (2, 2),\n",
              " (2, 3),\n",
              " (2, 4),\n",
              " (2, 12),\n",
              " (2, 15),\n",
              " (2, 19),\n",
              " (2, 10),\n",
              " (2, 13),\n",
              " (3, 12),\n",
              " (3, 15),\n",
              " (3, 16),\n",
              " (3, 5),\n",
              " (3, 8),\n",
              " (3, 17),\n",
              " (4, 4),\n",
              " (4, 11),\n",
              " (4, 14),\n",
              " (4, 19),\n",
              " (5, 16),\n",
              " (5, 7),\n",
              " (5, 11),\n",
              " (6, 6),\n",
              " (6, 10),\n",
              " (6, 14),\n",
              " (6, 7),\n",
              " (6, 12),\n",
              " (7, 17),\n",
              " (7, 18),\n",
              " (8, 8),\n",
              " (8, 13),\n",
              " (9, 15),\n",
              " (9, 18),\n",
              " (10, 16),\n",
              " (10, 19),\n",
              " (10, 12),\n",
              " (10, 13),\n",
              " (11, 17),\n",
              " (11, 18),\n",
              " (12, 13),\n",
              " (12, 15),\n",
              " (13, 18),\n",
              " (13, 19),\n",
              " (14, 18),\n",
              " (14, 16),\n",
              " (14, 19),\n",
              " (15, 16),\n",
              " (15, 19),\n",
              " (18, 18),\n",
              " (19, 19)]"
            ]
          },
          "metadata": {},
          "execution_count": 11
        }
      ]
    },
    {
      "cell_type": "markdown",
      "source": [
        "La correcta implementacion es:"
      ],
      "metadata": {
        "id": "NpbYQpoLvUv6"
      }
    },
    {
      "cell_type": "code",
      "source": [
        "G=nx.Graph()\n",
        "G.add_nodes_from(range(N))\n",
        "for node1 in G.nodes():\n",
        "  for node2 in G.nodes():\n",
        "    #con node1<node2 evitamos repetir los pares (creo que se puede implementar algo mejor)\n",
        "    if node1<node2 and bernoulli.rvs(p=p):\n",
        "      G.add_edge(node1,node2)"
      ],
      "metadata": {
        "id": "UXTDWgGTp8wR"
      },
      "execution_count": null,
      "outputs": []
    },
    {
      "cell_type": "code",
      "source": [
        "nx.draw(G,node_color=\"c\",edge_color=\"gray\")"
      ],
      "metadata": {
        "colab": {
          "base_uri": "https://localhost:8080/"
        },
        "id": "skGph6hMp_DY",
        "outputId": "b4a5939b-443e-4ca1-e18b-990b78a9a2d1"
      },
      "execution_count": null,
      "outputs": [
        {
          "output_type": "display_data",
          "data": {
            "image/png": "[encoded data removed]",
            "text/plain": [
              "<Figure size 432x288 with 1 Axes>"
            ]
          },
          "metadata": {}
        }
      ]
    },
    {
      "cell_type": "code",
      "source": [
        "def er_graph(N,p):\n",
        "  \"\"\"Generate a random Erdős-Rényi graph\"\"\"\n",
        "  G=nx.Graph()\n",
        "  G.add_nodes_from(range(N))\n",
        "  for node1 in G.nodes():\n",
        "    for node2 in G.nodes():\n",
        "      if node1<node2 and bernoulli.rvs(p=p):\n",
        "        G.add_edge(node1,node2)\n",
        "  return G"
      ],
      "metadata": {
        "id": "mNJ0hagKvNtt"
      },
      "execution_count": null,
      "outputs": []
    },
    {
      "cell_type": "code",
      "source": [
        "G=er_graph(50,0.08)\n",
        "nx.draw(G,node_size=40,node_color=\"c\")\n",
        "G.degree"
      ],
      "metadata": {
        "colab": {
          "base_uri": "https://localhost:8080/"
        },
        "id": "dqX3R8QN9CAA",
        "outputId": "18d85dc8-6452-4ec4-e208-cfc17a7eb8b7"
      },
      "execution_count": null,
      "outputs": [
        {
          "output_type": "execute_result",
          "data": {
            "text/plain": [
              "DegreeView({0: 3, 1: 3, 2: 5, 3: 4, 4: 2, 5: 3, 6: 2, 7: 4, 8: 4, 9: 4, 10: 5, 11: 3, 12: 4, 13: 5, 14: 6, 15: 2, 16: 3, 17: 3, 18: 3, 19: 3, 20: 5, 21: 4, 22: 3, 23: 2, 24: 4, 25: 2, 26: 2, 27: 4, 28: 4, 29: 2, 30: 6, 31: 0, 32: 5, 33: 3, 34: 1, 35: 2, 36: 5, 37: 7, 38: 4, 39: 3, 40: 6, 41: 2, 42: 3, 43: 4, 44: 3, 45: 3, 46: 1, 47: 1, 48: 4, 49: 4})"
            ]
          },
          "metadata": {},
          "execution_count": 15
        },
        {
          "output_type": "display_data",
          "data": {
            "image/png": "[encoded data removed]",
            "text/plain": [
              "<Figure size 432x288 with 1 Axes>"
            ]
          },
          "metadata": {}
        }
      ]
    },
    {
      "cell_type": "code",
      "source": [
        "G=er_graph(10,0)\n",
        "nx.draw(G,node_size=100,node_color=\"c\")\n",
        "G.degree"
      ],
      "metadata": {
        "colab": {
          "base_uri": "https://localhost:8080/"
        },
        "id": "gaDCTh7F-bOC",
        "outputId": "27b0e020-d468-4496-d784-2325ef7692b5"
      },
      "execution_count": null,
      "outputs": [
        {
          "output_type": "execute_result",
          "data": {
            "text/plain": [
              "DegreeView({0: 0, 1: 0, 2: 0, 3: 0, 4: 0, 5: 0, 6: 0, 7: 0, 8: 0, 9: 0})"
            ]
          },
          "metadata": {},
          "execution_count": 16
        },
        {
          "output_type": "display_data",
          "data": {
            "image/png": "[encoded data removed]",
            "text/plain": [
              "<Figure size 432x288 with 1 Axes>"
            ]
          },
          "metadata": {}
        }
      ]
    },
    {
      "cell_type": "markdown",
      "source": [
        "##4.3.5: Plotting the Degree Distribution\n",
        "\n",
        "In this video, you will...\n",
        "\n",
        ">        Learn how to plot the degree distribution of a graph"
      ],
      "metadata": {
        "id": "5jCXM93IAv8v"
      }
    },
    {
      "cell_type": "code",
      "source": [
        "#This method does not work\n",
        "def plot_degree_distribution(G:nx):\n",
        "  plt.hist(list(G.degree().values()),histtype=\"step\")\n",
        "  plt.xlabel(\"Degree $k$\")\n",
        "  plt.ylabel(\"$P(k)$\")\n",
        "  plt.title(\"Degree distribution\")"
      ],
      "metadata": {
        "id": "im_XzGXJA5lL"
      },
      "execution_count": null,
      "outputs": []
    },
    {
      "cell_type": "code",
      "source": [
        "def plot_degree_distribution(G:nx):\n",
        "  degree_sequence = [d for n, d in G.degree()]\n",
        "  plt.hist(degree_sequence, histtype=\"step\")\n",
        "  plt.xlabel(\"Degree $k$ (num of conections)\")\n",
        "  plt.ylabel(\"$P(k)$ (nodos with this nums of edgs)\")\n",
        "  plt.title(\"Degree distribution\")"
      ],
      "metadata": {
        "id": "sO3sife5D-rv"
      },
      "execution_count": null,
      "outputs": []
    },
    {
      "cell_type": "code",
      "source": [
        "G=er_graph(50,0.08)"
      ],
      "metadata": {
        "id": "uc5fZb8mHQRq"
      },
      "execution_count": null,
      "outputs": []
    },
    {
      "cell_type": "code",
      "source": [
        "nx.draw(G)\n",
        "G.degree()\n",
        "degree_sequence = [d for n, d in G.degree()]\n",
        "degree_sequence.count(3)"
      ],
      "metadata": {
        "colab": {
          "base_uri": "https://localhost:8080/"
        },
        "id": "oHW8ksjgDhGN",
        "outputId": "e345c987-0ad4-49b0-944a-b1b4747f2c3f"
      },
      "execution_count": null,
      "outputs": [
        {
          "output_type": "execute_result",
          "data": {
            "text/plain": [
              "7"
            ]
          },
          "metadata": {},
          "execution_count": 20
        },
        {
          "output_type": "display_data",
          "data": {
            "image/png": "[encoded data removed]",
            "text/plain": [
              "<Figure size 432x288 with 1 Axes>"
            ]
          },
          "metadata": {}
        }
      ]
    },
    {
      "cell_type": "code",
      "source": [
        "G1=er_graph(500,0.08)\n",
        "G2=er_graph(500,0.08)\n",
        "G3=er_graph(500,0.08)"
      ],
      "metadata": {
        "id": "ZEK7ouy2DpCE"
      },
      "execution_count": null,
      "outputs": []
    },
    {
      "cell_type": "code",
      "source": [
        "plot_degree_distribution(G1)\n",
        "plot_degree_distribution(G2)\n",
        "plot_degree_distribution(G3)"
      ],
      "metadata": {
        "colab": {
          "base_uri": "https://localhost:8080/"
        },
        "id": "CwAJ8OYrxZ6e",
        "outputId": "65fb51e5-cae4-4e37-ce4a-12f4d0f2d2aa"
      },
      "execution_count": null,
      "outputs": [
        {
          "output_type": "display_data",
          "data": {
            "image/png": "[encoded data removed]",
            "text/plain": [
              "<Figure size 432x288 with 1 Axes>"
            ]
          },
          "metadata": {
            "needs_background": "light"
          }
        }
      ]
    },
    {
      "cell_type": "code",
      "source": [
        "#D = {1:1, 2:2, 3:3}\n",
        "#plt.hist(D)"
      ],
      "metadata": {
        "id": "tFAA57dl0Kx-"
      },
      "execution_count": null,
      "outputs": []
    },
    {
      "cell_type": "code",
      "source": [
        "G1=er_graph(100,0.03)\n",
        "G2=er_graph(100,0.3)"
      ],
      "metadata": {
        "id": "Ao-Zyc_G1FPD"
      },
      "execution_count": null,
      "outputs": []
    },
    {
      "cell_type": "code",
      "source": [
        "plot_degree_distribution(G1)\n",
        "plot_degree_distribution(G2)"
      ],
      "metadata": {
        "colab": {
          "base_uri": "https://localhost:8080/"
        },
        "id": "kl2mGeMj1NvO",
        "outputId": "7489a1db-c9b3-4a6b-9482-80103dab9748"
      },
      "execution_count": null,
      "outputs": [
        {
          "output_type": "display_data",
          "data": {
            "image/png": "[encoded data removed]",
            "text/plain": [
              "<Figure size 432x288 with 1 Axes>"
            ]
          },
          "metadata": {
            "needs_background": "light"
          }
        }
      ]
    },
    {
      "cell_type": "code",
      "source": [
        "import numpy as np\n",
        "\n",
        "g1_dict=dict(G1.degree())\n",
        "g2_dict=dict(G2.degree())\n",
        "\n",
        "np.mean(np.array(list(g1_dict.values()))),np.mean(np.array(list(g2_dict.values())))\n"
      ],
      "metadata": {
        "colab": {
          "base_uri": "https://localhost:8080/"
        },
        "id": "ILXm4_Vr2g-1",
        "outputId": "f476737a-563d-4673-ec72-f50e2ef6a273"
      },
      "execution_count": null,
      "outputs": [
        {
          "output_type": "execute_result",
          "data": {
            "text/plain": [
              "(3.24, 29.98)"
            ]
          },
          "metadata": {},
          "execution_count": 26
        }
      ]
    },
    {
      "cell_type": "markdown",
      "source": [
        "##4.3.6: Descriptive Statistics of Empirical Social Networks\n",
        "\n",
        "In this video, you will...\n",
        "\n",
        ">        Look at the basic properties of social networks in two villages in rural India        \n",
        "\n",
        "\n",
        ">        Compare the degree distribution of these empirical networks with the degree distribution of the ER networks\n"
      ],
      "metadata": {
        "id": "gI7a5qG_MT1-"
      }
    },
    {
      "cell_type": "code",
      "source": [
        "import numpy as np"
      ],
      "metadata": {
        "id": "z9io6g_tMoFO"
      },
      "execution_count": null,
      "outputs": []
    },
    {
      "cell_type": "code",
      "source": [
        "A1=np.loadtxt(\"/content/adj_allVillageRelationships_vilno_1.csv\",delimiter=\",\")\n",
        "A2=np.loadtxt(\"/content/adj_allVillageRelationships_vilno_2.csv\",delimiter=\",\")"
      ],
      "metadata": {
        "id": "PUCouOwhxDPx"
      },
      "execution_count": null,
      "outputs": []
    },
    {
      "cell_type": "code",
      "source": [
        "G1=nx.to_networkx_graph(A1)\n",
        "G2=nx.to_networkx_graph(A2)"
      ],
      "metadata": {
        "id": "sGzWhvI2zHOy"
      },
      "execution_count": null,
      "outputs": []
    },
    {
      "cell_type": "code",
      "source": [
        "def basic_net_stats(G):\n",
        "  print(f\"number_of_edges: {G.number_of_edges()}\")\n",
        "  print(f\"number_of_nodes: {G.number_of_nodes()}\")\n",
        "  \n",
        "  print(f\"Degree average: {np.mean(list(G.degree().values()))}\")\n"
      ],
      "metadata": {
        "id": "vfWxlNXpzoZ6"
      },
      "execution_count": null,
      "outputs": []
    },
    {
      "cell_type": "code",
      "source": [
        "basic_net_stats(G1)"
      ],
      "metadata": {
        "colab": {
          "base_uri": "https://localhost:8080/",
          "height": 287
        },
        "id": "21j0-ceEOhNi",
        "outputId": "46bc1c92-24aa-41d9-aee7-5e27f827d64f"
      },
      "execution_count": null,
      "outputs": [
        {
          "output_type": "stream",
          "name": "stdout",
          "text": [
            "number_of_edges: 3405\n",
            "number_of_nodes: 843\n"
          ]
        },
        {
          "output_type": "error",
          "ename": "AttributeError",
          "evalue": "ignored",
          "traceback": [
            "\u001b[0;31m---------------------------------------------------------------------------\u001b[0m",
            "\u001b[0;31mAttributeError\u001b[0m                            Traceback (most recent call last)",
            "\u001b[0;32m<ipython-input-33-65a9d3144956>\u001b[0m in \u001b[0;36m<module>\u001b[0;34m()\u001b[0m\n\u001b[0;32m----> 1\u001b[0;31m \u001b[0mbasic_net_stats\u001b[0m\u001b[0;34m(\u001b[0m\u001b[0mG1\u001b[0m\u001b[0;34m)\u001b[0m\u001b[0;34m\u001b[0m\u001b[0;34m\u001b[0m\u001b[0m\n\u001b[0m",
            "\u001b[0;32m<ipython-input-31-37d6947d566c>\u001b[0m in \u001b[0;36mbasic_net_stats\u001b[0;34m(G)\u001b[0m\n\u001b[1;32m      3\u001b[0m   \u001b[0mprint\u001b[0m\u001b[0;34m(\u001b[0m\u001b[0;34mf\"number_of_nodes: {G.number_of_nodes()}\"\u001b[0m\u001b[0;34m)\u001b[0m\u001b[0;34m\u001b[0m\u001b[0;34m\u001b[0m\u001b[0m\n\u001b[1;32m      4\u001b[0m \u001b[0;34m\u001b[0m\u001b[0m\n\u001b[0;32m----> 5\u001b[0;31m   \u001b[0mprint\u001b[0m\u001b[0;34m(\u001b[0m\u001b[0;34mf\"Degree average: {np.mean(list(G.degree().values()))}\"\u001b[0m\u001b[0;34m)\u001b[0m\u001b[0;34m\u001b[0m\u001b[0;34m\u001b[0m\u001b[0m\n\u001b[0m",
            "\u001b[0;31mAttributeError\u001b[0m: 'DegreeView' object has no attribute 'values'"
          ]
        }
      ]
    },
    {
      "cell_type": "code",
      "source": [
        "def basic_net_stats(G):\n",
        "  print(f\"number_of_edges: {G.number_of_edges()}\")\n",
        "  print(f\"number_of_nodes: {G.number_of_nodes()}\")\n",
        "  degree_sequence = [d for n, d in G.degree()]\n",
        "  print(\"Average degree: %.2f\" % np.mean(degree_sequence))"
      ],
      "metadata": {
        "id": "m1tYU9dgOk0Z"
      },
      "execution_count": null,
      "outputs": []
    },
    {
      "cell_type": "code",
      "source": [
        "basic_net_stats(G1),basic_net_stats(G2)"
      ],
      "metadata": {
        "colab": {
          "base_uri": "https://localhost:8080/"
        },
        "id": "gaaCfqTzPWIO",
        "outputId": "4f9a0621-8a2d-4cbb-f653-c5588565cb64"
      },
      "execution_count": null,
      "outputs": [
        {
          "output_type": "stream",
          "name": "stdout",
          "text": [
            "number_of_edges: 3405\n",
            "number_of_nodes: 843\n",
            "Average degree: 8.08\n",
            "number_of_edges: 3063\n",
            "number_of_nodes: 877\n",
            "Average degree: 6.99\n"
          ]
        },
        {
          "output_type": "execute_result",
          "data": {
            "text/plain": [
              "(None, None)"
            ]
          },
          "metadata": {},
          "execution_count": 41
        }
      ]
    },
    {
      "cell_type": "code",
      "source": [
        "plot_degree_distribution(G1)\n",
        "plot_degree_distribution(G2)\n"
      ],
      "metadata": {
        "colab": {
          "base_uri": "https://localhost:8080/",
          "height": 299
        },
        "id": "okkZkQDaP9NA",
        "outputId": "8318bd20-5a82-44d0-d349-f7536ed40636"
      },
      "execution_count": null,
      "outputs": [
        {
          "output_type": "display_data",
          "data": {
            "image/png": "[encoded data removed]",
            "text/plain": [
              "<Figure size 432x288 with 1 Axes>"
            ]
          },
          "metadata": {
            "needs_background": "light"
          }
        }
      ]
    },
    {
      "cell_type": "markdown",
      "source": [
        "##4.3.7: Finding the Largest Connected Component\n",
        "\n",
        "In this video, you will...\n",
        "\n",
        ">        Learn how to find the largest connected component in a network\n",
        "\n",
        ">        Learn how to visualize the largest connected component\n"
      ],
      "metadata": {
        "id": "BI1QivN-ZW3R"
      }
    },
    {
      "cell_type": "code",
      "source": [
        "dir(nx)"
      ],
      "metadata": {
        "colab": {
          "base_uri": "https://localhost:8080/"
        },
        "id": "jCbAPXsYdPNp",
        "outputId": "05b10f36-a9fa-475e-a3b4-316c864e163e"
      },
      "execution_count": null,
      "outputs": [
        {
          "output_type": "execute_result",
          "data": {
            "text/plain": [
              "['AmbiguousSolution',\n",
              " 'DiGraph',\n",
              " 'ExceededMaxIterations',\n",
              " 'Graph',\n",
              " 'GraphMLReader',\n",
              " 'GraphMLWriter',\n",
              " 'HasACycle',\n",
              " 'LCF_graph',\n",
              " 'LFR_benchmark_graph',\n",
              " 'MultiDiGraph',\n",
              " 'MultiGraph',\n",
              " 'NetworkXAlgorithmError',\n",
              " 'NetworkXError',\n",
              " 'NetworkXException',\n",
              " 'NetworkXNoCycle',\n",
              " 'NetworkXNoPath',\n",
              " 'NetworkXNotImplemented',\n",
              " 'NetworkXPointlessConcept',\n",
              " 'NetworkXTreewidthBoundExceeded',\n",
              " 'NetworkXUnbounded',\n",
              " 'NetworkXUnfeasible',\n",
              " 'NodeNotFound',\n",
              " 'NotATree',\n",
              " 'OrderedDiGraph',\n",
              " 'OrderedGraph',\n",
              " 'OrderedMultiDiGraph',\n",
              " 'OrderedMultiGraph',\n",
              " 'PlanarEmbedding',\n",
              " 'PowerIterationFailedConvergence',\n",
              " '__builtins__',\n",
              " '__cached__',\n",
              " '__doc__',\n",
              " '__file__',\n",
              " '__getattr__',\n",
              " '__loader__',\n",
              " '__name__',\n",
              " '__package__',\n",
              " '__path__',\n",
              " '__spec__',\n",
              " '__version__',\n",
              " 'adamic_adar_index',\n",
              " 'add_cycle',\n",
              " 'add_path',\n",
              " 'add_star',\n",
              " 'adj_matrix',\n",
              " 'adjacency',\n",
              " 'adjacency_data',\n",
              " 'adjacency_graph',\n",
              " 'adjacency_matrix',\n",
              " 'adjacency_spectrum',\n",
              " 'adjlist',\n",
              " 'algebraic_connectivity',\n",
              " 'algebraicconnectivity',\n",
              " 'algorithms',\n",
              " 'all',\n",
              " 'all_neighbors',\n",
              " 'all_node_cuts',\n",
              " 'all_pairs_bellman_ford_path',\n",
              " 'all_pairs_bellman_ford_path_length',\n",
              " 'all_pairs_dijkstra',\n",
              " 'all_pairs_dijkstra_path',\n",
              " 'all_pairs_dijkstra_path_length',\n",
              " 'all_pairs_lowest_common_ancestor',\n",
              " 'all_pairs_node_connectivity',\n",
              " 'all_pairs_shortest_path',\n",
              " 'all_pairs_shortest_path_length',\n",
              " 'all_shortest_paths',\n",
              " 'all_simple_edge_paths',\n",
              " 'all_simple_paths',\n",
              " 'all_topological_sorts',\n",
              " 'all_triads',\n",
              " 'all_triplets',\n",
              " 'ancestors',\n",
              " 'antichains',\n",
              " 'approximate_current_flow_betweenness_centrality',\n",
              " 'approximation',\n",
              " 'articulation_points',\n",
              " 'assortativity',\n",
              " 'astar',\n",
              " 'astar_path',\n",
              " 'astar_path_length',\n",
              " 'asteroidal',\n",
              " 'atlas',\n",
              " 'attr_matrix',\n",
              " 'attr_sparse_matrix',\n",
              " 'attracting',\n",
              " 'attracting_components',\n",
              " 'attribute_assortativity_coefficient',\n",
              " 'attribute_mixing_dict',\n",
              " 'attribute_mixing_matrix',\n",
              " 'attrmatrix',\n",
              " 'authority_matrix',\n",
              " 'average_clustering',\n",
              " 'average_degree_connectivity',\n",
              " 'average_neighbor_degree',\n",
              " 'average_node_connectivity',\n",
              " 'average_shortest_path_length',\n",
              " 'balanced_tree',\n",
              " 'barabasi_albert_graph',\n",
              " 'barbell_graph',\n",
              " 'barycenter',\n",
              " 'beamsearch',\n",
              " 'bellman_ford_path',\n",
              " 'bellman_ford_path_length',\n",
              " 'bellman_ford_predecessor_and_distance',\n",
              " 'bethe_hessian_matrix',\n",
              " 'bethe_hessian_spectrum',\n",
              " 'bethehessianmatrix',\n",
              " 'betweenness',\n",
              " 'betweenness_centrality',\n",
              " 'betweenness_centrality_source',\n",
              " 'betweenness_centrality_subset',\n",
              " 'betweenness_subset',\n",
              " 'bfs_beam_edges',\n",
              " 'bfs_edges',\n",
              " 'bfs_predecessors',\n",
              " 'bfs_successors',\n",
              " 'bfs_tree',\n",
              " 'biconnected',\n",
              " 'biconnected_component_edges',\n",
              " 'biconnected_components',\n",
              " 'bidirectional_dijkstra',\n",
              " 'bidirectional_shortest_path',\n",
              " 'binary',\n",
              " 'binomial_graph',\n",
              " 'binomial_tree',\n",
              " 'bipartite',\n",
              " 'bipartite_layout',\n",
              " 'boundary',\n",
              " 'boundary_expansion',\n",
              " 'breadth_first_search',\n",
              " 'bridges',\n",
              " 'bull_graph',\n",
              " 'capacity_scaling',\n",
              " 'cartesian_product',\n",
              " 'caveman_graph',\n",
              " 'center',\n",
              " 'centrality',\n",
              " 'chain_decomposition',\n",
              " 'chains',\n",
              " 'check_planarity',\n",
              " 'chordal',\n",
              " 'chordal_cycle_graph',\n",
              " 'chordal_graph_cliques',\n",
              " 'chordal_graph_treewidth',\n",
              " 'chvatal_graph',\n",
              " 'circulant_graph',\n",
              " 'circular_ladder_graph',\n",
              " 'circular_layout',\n",
              " 'classes',\n",
              " 'classic',\n",
              " 'clique',\n",
              " 'cliques_containing_node',\n",
              " 'closeness',\n",
              " 'closeness_centrality',\n",
              " 'closeness_vitality',\n",
              " 'cluster',\n",
              " 'clustering',\n",
              " 'cn_soundarajan_hopcroft',\n",
              " 'cographs',\n",
              " 'coloring',\n",
              " 'combinatorial_embedding_to_pos',\n",
              " 'common_neighbor_centrality',\n",
              " 'common_neighbors',\n",
              " 'communicability',\n",
              " 'communicability_alg',\n",
              " 'communicability_betweenness_centrality',\n",
              " 'communicability_exp',\n",
              " 'community',\n",
              " 'complement',\n",
              " 'complete_bipartite_graph',\n",
              " 'complete_graph',\n",
              " 'complete_multipartite_graph',\n",
              " 'complete_to_chordal_graph',\n",
              " 'components',\n",
              " 'compose',\n",
              " 'compose_all',\n",
              " 'condensation',\n",
              " 'conductance',\n",
              " 'configuration_model',\n",
              " 'connected',\n",
              " 'connected_caveman_graph',\n",
              " 'connected_components',\n",
              " 'connected_double_edge_swap',\n",
              " 'connected_watts_strogatz_graph',\n",
              " 'connectivity',\n",
              " 'constraint',\n",
              " 'contracted_edge',\n",
              " 'contracted_nodes',\n",
              " 'convert',\n",
              " 'convert_matrix',\n",
              " 'convert_node_labels_to_integers',\n",
              " 'core',\n",
              " 'core_number',\n",
              " 'coreviews',\n",
              " 'correlation',\n",
              " 'cost_of_flow',\n",
              " 'could_be_isomorphic',\n",
              " 'covering',\n",
              " 'create_empty_copy',\n",
              " 'cubical_graph',\n",
              " 'current_flow_betweenness',\n",
              " 'current_flow_betweenness_centrality',\n",
              " 'current_flow_betweenness_centrality_subset',\n",
              " 'current_flow_betweenness_subset',\n",
              " 'current_flow_closeness',\n",
              " 'current_flow_closeness_centrality',\n",
              " 'cut_size',\n",
              " 'cuts',\n",
              " 'cycle_basis',\n",
              " 'cycle_graph',\n",
              " 'cycles',\n",
              " 'cytoscape',\n",
              " 'cytoscape_data',\n",
              " 'cytoscape_graph',\n",
              " 'd_separated',\n",
              " 'd_separation',\n",
              " 'dag',\n",
              " 'dag_longest_path',\n",
              " 'dag_longest_path_length',\n",
              " 'dag_to_branching',\n",
              " 'davis_southern_women_graph',\n",
              " 'dedensify',\n",
              " 'degree',\n",
              " 'degree_alg',\n",
              " 'degree_assortativity_coefficient',\n",
              " 'degree_centrality',\n",
              " 'degree_histogram',\n",
              " 'degree_mixing_dict',\n",
              " 'degree_mixing_matrix',\n",
              " 'degree_pearson_correlation_coefficient',\n",
              " 'degree_seq',\n",
              " 'degree_sequence_tree',\n",
              " 'dense',\n",
              " 'dense_gnm_random_graph',\n",
              " 'density',\n",
              " 'depth_first_search',\n",
              " 'desargues_graph',\n",
              " 'descendants',\n",
              " 'descendants_at_distance',\n",
              " 'dfs_edges',\n",
              " 'dfs_labeled_edges',\n",
              " 'dfs_postorder_nodes',\n",
              " 'dfs_predecessors',\n",
              " 'dfs_preorder_nodes',\n",
              " 'dfs_successors',\n",
              " 'dfs_tree',\n",
              " 'diameter',\n",
              " 'diamond_graph',\n",
              " 'difference',\n",
              " 'digraph',\n",
              " 'dijkstra_path',\n",
              " 'dijkstra_path_length',\n",
              " 'dijkstra_predecessor_and_distance',\n",
              " 'directed',\n",
              " 'directed_combinatorial_laplacian_matrix',\n",
              " 'directed_configuration_model',\n",
              " 'directed_havel_hakimi_graph',\n",
              " 'directed_joint_degree_graph',\n",
              " 'directed_laplacian_matrix',\n",
              " 'directed_modularity_matrix',\n",
              " 'disjoint_union',\n",
              " 'disjoint_union_all',\n",
              " 'dispersion',\n",
              " 'distance_measures',\n",
              " 'distance_regular',\n",
              " 'dodecahedral_graph',\n",
              " 'dominance',\n",
              " 'dominance_frontiers',\n",
              " 'dominating',\n",
              " 'dominating_set',\n",
              " 'dorogovtsev_goltsev_mendes_graph',\n",
              " 'double_edge_swap',\n",
              " 'draw',\n",
              " 'draw_circular',\n",
              " 'draw_kamada_kawai',\n",
              " 'draw_networkx',\n",
              " 'draw_networkx_edge_labels',\n",
              " 'draw_networkx_edges',\n",
              " 'draw_networkx_labels',\n",
              " 'draw_networkx_nodes',\n",
              " 'draw_planar',\n",
              " 'draw_random',\n",
              " 'draw_shell',\n",
              " 'draw_spectral',\n",
              " 'draw_spring',\n",
              " 'drawing',\n",
              " 'dual_barabasi_albert_graph',\n",
              " 'duplication',\n",
              " 'duplication_divergence_graph',\n",
              " 'eccentricity',\n",
              " 'edge_betweenness',\n",
              " 'edge_betweenness_centrality',\n",
              " 'edge_betweenness_centrality_subset',\n",
              " 'edge_bfs',\n",
              " 'edge_boundary',\n",
              " 'edge_connectivity',\n",
              " 'edge_current_flow_betweenness_centrality',\n",
              " 'edge_current_flow_betweenness_centrality_subset',\n",
              " 'edge_dfs',\n",
              " 'edge_disjoint_paths',\n",
              " 'edge_expansion',\n",
              " 'edge_load_centrality',\n",
              " 'edge_subgraph',\n",
              " 'edgebfs',\n",
              " 'edgedfs',\n",
              " 'edgelist',\n",
              " 'edges',\n",
              " 'effective_size',\n",
              " 'efficiency',\n",
              " 'efficiency_measures',\n",
              " 'ego',\n",
              " 'ego_graph',\n",
              " 'eigenvector',\n",
              " 'eigenvector_centrality',\n",
              " 'eigenvector_centrality_numpy',\n",
              " 'empty_graph',\n",
              " 'enumerate_all_cliques',\n",
              " 'equitable_color',\n",
              " 'equivalence_classes',\n",
              " 'erdos_renyi_graph',\n",
              " 'estrada_index',\n",
              " 'euler',\n",
              " 'eulerian_circuit',\n",
              " 'eulerian_path',\n",
              " 'eulerize',\n",
              " 'exception',\n",
              " 'expanders',\n",
              " 'expected_degree_graph',\n",
              " 'extended_barabasi_albert_graph',\n",
              " 'extrema_bounding',\n",
              " 'fast_could_be_isomorphic',\n",
              " 'fast_gnp_random_graph',\n",
              " 'faster_could_be_isomorphic',\n",
              " 'fiedler_vector',\n",
              " 'filters',\n",
              " 'find_asteroidal_triple',\n",
              " 'find_cliques',\n",
              " 'find_cliques_recursive',\n",
              " 'find_cores',\n",
              " 'find_cycle',\n",
              " 'find_induced_nodes',\n",
              " 'florentine_families_graph',\n",
              " 'flow',\n",
              " 'flow_hierarchy',\n",
              " 'flow_matrix',\n",
              " 'floyd_warshall',\n",
              " 'floyd_warshall_numpy',\n",
              " 'floyd_warshall_predecessor_and_distance',\n",
              " 'forest_str',\n",
              " 'freeze',\n",
              " 'from_dict_of_dicts',\n",
              " 'from_dict_of_lists',\n",
              " 'from_edgelist',\n",
              " 'from_graph6_bytes',\n",
              " 'from_nested_tuple',\n",
              " 'from_numpy_array',\n",
              " 'from_numpy_matrix',\n",
              " 'from_pandas_adjacency',\n",
              " 'from_pandas_edgelist',\n",
              " 'from_prufer_sequence',\n",
              " 'from_scipy_sparse_matrix',\n",
              " 'from_sparse6_bytes',\n",
              " 'frucht_graph',\n",
              " 'fruchterman_reingold_layout',\n",
              " 'full_join',\n",
              " 'full_rary_tree',\n",
              " 'function',\n",
              " 'gaussian_random_partition_graph',\n",
              " 'general_random_intersection_graph',\n",
              " 'generalized_degree',\n",
              " 'generate_adjlist',\n",
              " 'generate_edgelist',\n",
              " 'generate_gexf',\n",
              " 'generate_gml',\n",
              " 'generate_graphml',\n",
              " 'generate_multiline_adjlist',\n",
              " 'generate_pajek',\n",
              " 'generate_random_paths',\n",
              " 'generators',\n",
              " 'generic',\n",
              " 'geographical_threshold_graph',\n",
              " 'geometric',\n",
              " 'get_edge_attributes',\n",
              " 'get_node_attributes',\n",
              " 'gexf',\n",
              " 'global_efficiency',\n",
              " 'global_parameters',\n",
              " 'global_reaching_centrality',\n",
              " 'gml',\n",
              " 'gn_graph',\n",
              " 'gnc_graph',\n",
              " 'gnm_random_graph',\n",
              " 'gnp_random_graph',\n",
              " 'gnr_graph',\n",
              " 'goldberg_radzik',\n",
              " 'gomory_hu_tree',\n",
              " 'google_matrix',\n",
              " 'gpickle',\n",
              " 'graph',\n",
              " 'graph6',\n",
              " 'graph_atlas',\n",
              " 'graph_atlas_g',\n",
              " 'graph_clique_number',\n",
              " 'graph_edit_distance',\n",
              " 'graph_hashing',\n",
              " 'graph_number_of_cliques',\n",
              " 'graphical',\n",
              " 'graphmatrix',\n",
              " 'graphml',\n",
              " 'graphviews',\n",
              " 'greedy_color',\n",
              " 'grid_2d_graph',\n",
              " 'grid_graph',\n",
              " 'group',\n",
              " 'group_betweenness_centrality',\n",
              " 'group_closeness_centrality',\n",
              " 'group_degree_centrality',\n",
              " 'group_in_degree_centrality',\n",
              " 'group_out_degree_centrality',\n",
              " 'harmonic',\n",
              " 'harmonic_centrality',\n",
              " 'has_bridges',\n",
              " 'has_eulerian_path',\n",
              " 'has_path',\n",
              " 'havel_hakimi_graph',\n",
              " 'heawood_graph',\n",
              " 'hexagonal_lattice_graph',\n",
              " 'hierarchy',\n",
              " 'hits',\n",
              " 'hits_alg',\n",
              " 'hits_numpy',\n",
              " 'hits_scipy',\n",
              " 'hoffman_singleton_graph',\n",
              " 'house_graph',\n",
              " 'house_x_graph',\n",
              " 'hub_matrix',\n",
              " 'hybrid',\n",
              " 'hypercube_graph',\n",
              " 'icosahedral_graph',\n",
              " 'identified_nodes',\n",
              " 'immediate_dominators',\n",
              " 'in_degree_centrality',\n",
              " 'incidence_matrix',\n",
              " 'incremental_closeness_centrality',\n",
              " 'induced_subgraph',\n",
              " 'info',\n",
              " 'information_centrality',\n",
              " 'internet_as_graphs',\n",
              " 'intersection',\n",
              " 'intersection_all',\n",
              " 'intersection_array',\n",
              " 'interval_graph',\n",
              " 'inverse_line_graph',\n",
              " 'is_aperiodic',\n",
              " 'is_arborescence',\n",
              " 'is_at_free',\n",
              " 'is_attracting_component',\n",
              " 'is_biconnected',\n",
              " 'is_bipartite',\n",
              " 'is_branching',\n",
              " 'is_chordal',\n",
              " 'is_connected',\n",
              " 'is_digraphical',\n",
              " 'is_directed',\n",
              " 'is_directed_acyclic_graph',\n",
              " 'is_distance_regular',\n",
              " 'is_dominating_set',\n",
              " 'is_edge_cover',\n",
              " 'is_empty',\n",
              " 'is_eulerian',\n",
              " 'is_forest',\n",
              " 'is_frozen',\n",
              " 'is_graphical',\n",
              " 'is_isolate',\n",
              " 'is_isomorphic',\n",
              " 'is_k_edge_connected',\n",
              " 'is_k_regular',\n",
              " 'is_kl_connected',\n",
              " 'is_matching',\n",
              " 'is_maximal_matching',\n",
              " 'is_multigraphical',\n",
              " 'is_negatively_weighted',\n",
              " 'is_path',\n",
              " 'is_perfect_matching',\n",
              " 'is_pseudographical',\n",
              " 'is_regular',\n",
              " 'is_semiconnected',\n",
              " 'is_semieulerian',\n",
              " 'is_simple_path',\n",
              " 'is_strongly_connected',\n",
              " 'is_strongly_regular',\n",
              " 'is_tree',\n",
              " 'is_triad',\n",
              " 'is_valid_degree_sequence_erdos_gallai',\n",
              " 'is_valid_degree_sequence_havel_hakimi',\n",
              " 'is_valid_directed_joint_degree',\n",
              " 'is_valid_joint_degree',\n",
              " 'is_weakly_connected',\n",
              " 'is_weighted',\n",
              " 'isolate',\n",
              " 'isolates',\n",
              " 'isomorphism',\n",
              " 'jaccard_coefficient',\n",
              " 'jit',\n",
              " 'jit_data',\n",
              " 'jit_graph',\n",
              " 'johnson',\n",
              " 'join',\n",
              " 'joint_degree_graph',\n",
              " 'joint_degree_seq',\n",
              " 'json_graph',\n",
              " 'junction_tree',\n",
              " 'k_components',\n",
              " 'k_core',\n",
              " 'k_corona',\n",
              " 'k_crust',\n",
              " 'k_edge_augmentation',\n",
              " 'k_edge_components',\n",
              " 'k_edge_subgraphs',\n",
              " 'k_factor',\n",
              " 'k_nearest_neighbors',\n",
              " 'k_random_intersection_graph',\n",
              " 'k_shell',\n",
              " 'k_truss',\n",
              " 'kamada_kawai_layout',\n",
              " 'karate_club_graph',\n",
              " 'katz',\n",
              " 'katz_centrality',\n",
              " 'katz_centrality_numpy',\n",
              " 'kl_connected_subgraph',\n",
              " 'kosaraju_strongly_connected_components',\n",
              " 'krackhardt_kite_graph',\n",
              " 'ladder_graph',\n",
              " 'laplacian_matrix',\n",
              " 'laplacian_spectrum',\n",
              " 'laplacianmatrix',\n",
              " 'lattice',\n",
              " 'lattice_reference',\n",
              " 'layout',\n",
              " 'leda',\n",
              " 'les_miserables_graph',\n",
              " 'lexicographic_product',\n",
              " 'lexicographical_topological_sort',\n",
              " 'linalg',\n",
              " 'line',\n",
              " 'line_graph',\n",
              " 'link_analysis',\n",
              " 'link_prediction',\n",
              " 'load',\n",
              " 'load_centrality',\n",
              " 'local_bridges',\n",
              " 'local_constraint',\n",
              " 'local_efficiency',\n",
              " 'local_reaching_centrality',\n",
              " 'lollipop_graph',\n",
              " 'lowest_common_ancestor',\n",
              " 'lowest_common_ancestors',\n",
              " 'make_clique_bipartite',\n",
              " 'make_max_clique_graph',\n",
              " 'make_small_graph',\n",
              " 'margulis_gabber_galil_graph',\n",
              " 'matching',\n",
              " 'max_flow_min_cost',\n",
              " 'max_weight_clique',\n",
              " 'max_weight_matching',\n",
              " 'maximal_independent_set',\n",
              " 'maximal_matching',\n",
              " 'maximum_branching',\n",
              " 'maximum_flow',\n",
              " 'maximum_flow_value',\n",
              " 'maximum_spanning_arborescence',\n",
              " 'maximum_spanning_edges',\n",
              " 'maximum_spanning_tree',\n",
              " 'min_cost_flow',\n",
              " 'min_cost_flow_cost',\n",
              " 'min_edge_cover',\n",
              " 'min_weight_matching',\n",
              " 'minimum_branching',\n",
              " 'minimum_cut',\n",
              " 'minimum_cut_value',\n",
              " 'minimum_cycle_basis',\n",
              " 'minimum_edge_cut',\n",
              " 'minimum_node_cut',\n",
              " 'minimum_spanning_arborescence',\n",
              " 'minimum_spanning_edges',\n",
              " 'minimum_spanning_tree',\n",
              " 'minors',\n",
              " 'mis',\n",
              " 'mixing',\n",
              " 'mixing_dict',\n",
              " 'mixing_expansion',\n",
              " 'modularity_matrix',\n",
              " 'modularity_spectrum',\n",
              " 'modularitymatrix',\n",
              " 'moebius_kantor_graph',\n",
              " 'moral',\n",
              " 'moral_graph',\n",
              " 'multi_source_dijkstra',\n",
              " 'multi_source_dijkstra_path',\n",
              " 'multi_source_dijkstra_path_length',\n",
              " 'multidigraph',\n",
              " 'multigraph',\n",
              " 'multiline_adjlist',\n",
              " 'multipartite_layout',\n",
              " 'mycielski',\n",
              " 'mycielski_graph',\n",
              " 'mycielskian',\n",
              " 'navigable_small_world_graph',\n",
              " 'negative_edge_cycle',\n",
              " 'neighbor_degree',\n",
              " 'neighbors',\n",
              " 'network_simplex',\n",
              " 'newman_watts_strogatz_graph',\n",
              " 'node_attribute_xy',\n",
              " 'node_boundary',\n",
              " 'node_classification',\n",
              " 'node_clique_number',\n",
              " 'node_connected_component',\n",
              " 'node_connectivity',\n",
              " 'node_degree_xy',\n",
              " 'node_disjoint_paths',\n",
              " 'node_expansion',\n",
              " 'node_link',\n",
              " 'node_link_data',\n",
              " 'node_link_graph',\n",
              " 'nodes',\n",
              " 'nodes_with_selfloops',\n",
              " 'non_edges',\n",
              " 'non_neighbors',\n",
              " 'non_randomness',\n",
              " 'nonisomorphic_trees',\n",
              " 'normalized_cut_size',\n",
              " 'normalized_laplacian_matrix',\n",
              " 'normalized_laplacian_spectrum',\n",
              " 'null_graph',\n",
              " 'number_attracting_components',\n",
              " 'number_connected_components',\n",
              " 'number_of_cliques',\n",
              " 'number_of_edges',\n",
              " 'number_of_isolates',\n",
              " 'number_of_nodes',\n",
              " 'number_of_nonisomorphic_trees',\n",
              " 'number_of_selfloops',\n",
              " 'number_strongly_connected_components',\n",
              " 'number_weakly_connected_components',\n",
              " 'numeric_assortativity_coefficient',\n",
              " 'numeric_mixing_matrix',\n",
              " 'nx_agraph',\n",
              " 'nx_pydot',\n",
              " 'nx_pylab',\n",
              " 'nx_shp',\n",
              " 'octahedral_graph',\n",
              " 'omega',\n",
              " 'onion_layers',\n",
              " 'operators',\n",
              " 'optimal_edit_paths',\n",
              " 'optimize_edit_paths',\n",
              " 'optimize_graph_edit_distance',\n",
              " 'ordered',\n",
              " 'out_degree_centrality',\n",
              " 'overall_reciprocity',\n",
              " 'pagerank',\n",
              " 'pagerank_alg',\n",
              " 'pagerank_numpy',\n",
              " 'pagerank_scipy',\n",
              " 'pairs',\n",
              " 'pajek',\n",
              " 'paley_graph',\n",
              " 'panther_similarity',\n",
              " 'pappus_graph',\n",
              " 'parse_adjlist',\n",
              " 'parse_edgelist',\n",
              " 'parse_gml',\n",
              " 'parse_graphml',\n",
              " 'parse_leda',\n",
              " 'parse_multiline_adjlist',\n",
              " 'parse_pajek',\n",
              " 'partial_duplication_graph',\n",
              " 'path_graph',\n",
              " 'path_weight',\n",
              " 'percolation',\n",
              " 'percolation_centrality',\n",
              " 'periphery',\n",
              " 'petersen_graph',\n",
              " 'planar_drawing',\n",
              " 'planar_layout',\n",
              " 'planarity',\n",
              " 'planted_partition_graph',\n",
              " 'power',\n",
              " 'powerlaw_cluster_graph',\n",
              " 'predecessor',\n",
              " 'preferential_attachment',\n",
              " 'prefix_tree',\n",
              " 'prefix_tree_recursive',\n",
              " 'product',\n",
              " 'project',\n",
              " 'projected_graph',\n",
              " 'prominent_group',\n",
              " 'quotient_graph',\n",
              " 'ra_index_soundarajan_hopcroft',\n",
              " 'radius',\n",
              " 'random_clustered',\n",
              " 'random_clustered_graph',\n",
              " 'random_cograph',\n",
              " 'random_degree_sequence_graph',\n",
              " 'random_geometric_graph',\n",
              " 'random_graphs',\n",
              " 'random_internet_as_graph',\n",
              " 'random_k_out_graph',\n",
              " 'random_kernel_graph',\n",
              " 'random_layout',\n",
              " 'random_lobster',\n",
              " 'random_partition_graph',\n",
              " 'random_powerlaw_tree',\n",
              " 'random_powerlaw_tree_sequence',\n",
              " 'random_reference',\n",
              " 'random_regular_graph',\n",
              " 'random_shell_graph',\n",
              " 'random_tree',\n",
              " 'random_triad',\n",
              " 'reaching',\n",
              " 'read_adjlist',\n",
              " 'read_edgelist',\n",
              " 'read_gexf',\n",
              " 'read_gml',\n",
              " 'read_gpickle',\n",
              " 'read_graph6',\n",
              " 'read_graphml',\n",
              " 'read_leda',\n",
              " 'read_multiline_adjlist',\n",
              " 'read_pajek',\n",
              " 'read_shp',\n",
              " 'read_sparse6',\n",
              " 'read_weighted_edgelist',\n",
              " 'readwrite',\n",
              " 'reciprocity',\n",
              " 'reconstruct_path',\n",
              " 'recursive_simple_cycles',\n",
              " 'regular',\n",
              " 'relabel',\n",
              " 'relabel_gexf_graph',\n",
              " 'relabel_nodes',\n",
              " 'relaxed_caveman_graph',\n",
              " 'reportviews',\n",
              " 'rescale_layout',\n",
              " 'rescale_layout_dict',\n",
              " 'resistance_distance',\n",
              " 'resource_allocation_index',\n",
              " 'restricted_view',\n",
              " 'reverse',\n",
              " 'reverse_view',\n",
              " 'rich_club_coefficient',\n",
              " 'richclub',\n",
              " 'ring_of_cliques',\n",
              " 'rooted_product',\n",
              " 's_metric',\n",
              " 'scale_free_graph',\n",
              " 'second_order',\n",
              " 'second_order_centrality',\n",
              " 'sedgewick_maze_graph',\n",
              " 'selfloop_edges',\n",
              " 'semiconnected',\n",
              " 'set_edge_attributes',\n",
              " 'set_node_attributes',\n",
              " 'shell_layout',\n",
              " 'shortest_path',\n",
              " 'shortest_path_length',\n",
              " 'shortest_paths',\n",
              " 'shortest_simple_paths',\n",
              " 'sigma',\n",
              " 'similarity',\n",
              " 'simple_cycles',\n",
              " 'simple_paths',\n",
              " 'simrank_similarity',\n",
              " 'simrank_similarity_numpy',\n",
              " 'single_source_bellman_ford',\n",
              " 'single_source_bellman_ford_path',\n",
              " 'single_source_bellman_ford_path_length',\n",
              " 'single_source_dijkstra',\n",
              " 'single_source_dijkstra_path',\n",
              " 'single_source_dijkstra_path_length',\n",
              " 'single_source_shortest_path',\n",
              " 'single_source_shortest_path_length',\n",
              " 'single_target_shortest_path',\n",
              " 'single_target_shortest_path_length',\n",
              " 'small',\n",
              " 'smallworld',\n",
              " 'smetric',\n",
              " 'snap_aggregation',\n",
              " 'social',\n",
              " 'soft_random_geometric_graph',\n",
              " 'spanner',\n",
              " 'sparse6',\n",
              " 'sparsifiers',\n",
              " 'spectral_graph_forge',\n",
              " 'spectral_layout',\n",
              " 'spectral_ordering',\n",
              " 'spectrum',\n",
              " 'spiral_layout',\n",
              " 'spring_layout',\n",
              " 'square_clustering',\n",
              " 'star_graph',\n",
              " 'stochastic',\n",
              " 'stochastic_block_model',\n",
              " 'stochastic_graph',\n",
              " 'stoer_wagner',\n",
              " 'strong_product',\n",
              " 'strongly_connected',\n",
              " 'strongly_connected_components',\n",
              " 'strongly_connected_components_recursive',\n",
              " 'structuralholes',\n",
              " 'subgraph',\n",
              " 'subgraph_alg',\n",
              " 'subgraph_centrality',\n",
              " 'subgraph_centrality_exp',\n",
              " 'subgraph_view',\n",
              " 'sudoku',\n",
              " 'sudoku_graph',\n",
              " 'summarization',\n",
              " 'swap',\n",
              " 'symmetric_difference',\n",
              " 'tensor_product',\n",
              " 'test',\n",
              " 'testing',\n",
              " 'tetrahedral_graph',\n",
              " 'text',\n",
              " 'thresholded_random_geometric_graph',\n",
              " 'to_dict_of_dicts',\n",
              " 'to_dict_of_lists',\n",
              " 'to_directed',\n",
              " 'to_edgelist',\n",
              " 'to_graph6_bytes',\n",
              " 'to_nested_tuple',\n",
              " 'to_networkx_graph',\n",
              " 'to_numpy_array',\n",
              " 'to_numpy_matrix',\n",
              " 'to_numpy_recarray',\n",
              " 'to_pandas_adjacency',\n",
              " 'to_pandas_edgelist',\n",
              " 'to_prufer_sequence',\n",
              " 'to_scipy_sparse_matrix',\n",
              " 'to_sparse6_bytes',\n",
              " 'to_undirected',\n",
              " 'topological_generations',\n",
              " 'topological_sort',\n",
              " 'tournament',\n",
              " 'transitive_closure',\n",
              " 'transitive_closure_dag',\n",
              " 'transitive_reduction',\n",
              " 'transitivity',\n",
              " 'traversal',\n",
              " 'tree',\n",
              " 'tree_all_pairs_lowest_common_ancestor',\n",
              " 'tree_data',\n",
              " 'tree_graph',\n",
              " 'trees',\n",
              " 'triad_graph',\n",
              " 'triad_type',\n",
              " 'triadic_census',\n",
              " 'triads',\n",
              " 'triads_by_type',\n",
              " 'triangles',\n",
              " 'triangular_lattice_graph',\n",
              " 'trivial_graph',\n",
              " 'trophic',\n",
              " 'trophic_differences',\n",
              " 'trophic_incoherence_parameter',\n",
              " 'trophic_levels',\n",
              " 'truncated_cube_graph',\n",
              " 'truncated_tetrahedron_graph',\n",
              " 'turan_graph',\n",
              " 'tutte_graph',\n",
              " 'unary',\n",
              " 'uniform_random_intersection_graph',\n",
              " 'union',\n",
              " 'union_all',\n",
              " 'unweighted',\n",
              " 'utils',\n",
              " 'vitality',\n",
              " 'volume',\n",
              " 'voronoi',\n",
              " 'voronoi_cells',\n",
              " 'voterank',\n",
              " 'voterank_alg',\n",
              " 'watts_strogatz_graph',\n",
              " 'waxman_graph',\n",
              " 'weakly_connected',\n",
              " 'weakly_connected_components',\n",
              " 'weighted',\n",
              " 'weisfeiler_lehman_graph_hash',\n",
              " 'wheel_graph',\n",
              " 'wiener',\n",
              " 'wiener_index',\n",
              " 'windmill_graph',\n",
              " 'within_inter_cluster',\n",
              " 'write_adjlist',\n",
              " 'write_edgelist',\n",
              " 'write_gexf',\n",
              " 'write_gml',\n",
              " 'write_gpickle',\n",
              " 'write_graph6',\n",
              " 'write_graphml',\n",
              " 'write_graphml_lxml',\n",
              " 'write_graphml_xml',\n",
              " 'write_multiline_adjlist',\n",
              " 'write_pajek',\n",
              " 'write_shp',\n",
              " 'write_sparse6',\n",
              " 'write_weighted_edgelist']"
            ]
          },
          "metadata": {},
          "execution_count": 71
        }
      ]
    },
    {
      "cell_type": "code",
      "source": [
        "gen=nx.connected_components(G1)"
      ],
      "metadata": {
        "id": "FGzZMnQDZWdh"
      },
      "execution_count": null,
      "outputs": []
    },
    {
      "cell_type": "code",
      "source": [
        "def connected_component_subgraphs(G):\n",
        "    for c in nx.connected_components(G):\n",
        "        yield G.subgraph(c)"
      ],
      "metadata": {
        "id": "amPq_P1MhIdA"
      },
      "execution_count": null,
      "outputs": []
    },
    {
      "cell_type": "code",
      "source": [
        "#Solucion sacada de stack overflow para problema de compatibilidad \n",
        "genx=(G1.subgraph(c) for c in nx.connected_components(G1))"
      ],
      "metadata": {
        "id": "WT69gShIevUI"
      },
      "execution_count": null,
      "outputs": []
    },
    {
      "cell_type": "code",
      "source": [
        "fgen=connected_component_subgraphs(G1)\n",
        "dir(fgen)"
      ],
      "metadata": {
        "colab": {
          "base_uri": "https://localhost:8080/"
        },
        "id": "y8vWKjjnaRqf",
        "outputId": "d7334712-d7a9-4d5b-cb5c-9f377013c427"
      },
      "execution_count": null,
      "outputs": [
        {
          "output_type": "execute_result",
          "data": {
            "text/plain": [
              "['__class__',\n",
              " '__del__',\n",
              " '__delattr__',\n",
              " '__dir__',\n",
              " '__doc__',\n",
              " '__eq__',\n",
              " '__format__',\n",
              " '__ge__',\n",
              " '__getattribute__',\n",
              " '__gt__',\n",
              " '__hash__',\n",
              " '__init__',\n",
              " '__init_subclass__',\n",
              " '__iter__',\n",
              " '__le__',\n",
              " '__lt__',\n",
              " '__name__',\n",
              " '__ne__',\n",
              " '__new__',\n",
              " '__next__',\n",
              " '__qualname__',\n",
              " '__reduce__',\n",
              " '__reduce_ex__',\n",
              " '__repr__',\n",
              " '__setattr__',\n",
              " '__sizeof__',\n",
              " '__str__',\n",
              " '__subclasshook__',\n",
              " 'close',\n",
              " 'gi_code',\n",
              " 'gi_frame',\n",
              " 'gi_running',\n",
              " 'gi_yieldfrom',\n",
              " 'send',\n",
              " 'throw']"
            ]
          },
          "metadata": {},
          "execution_count": 101
        }
      ]
    },
    {
      "cell_type": "code",
      "source": [
        "g=fgen.__next__()\n",
        "dir(g)"
      ],
      "metadata": {
        "colab": {
          "base_uri": "https://localhost:8080/"
        },
        "id": "zTLy_SlGc32w",
        "outputId": "7e440d5e-ba4c-4a16-e731-ef4f74f4d1de"
      },
      "execution_count": null,
      "outputs": [
        {
          "output_type": "execute_result",
          "data": {
            "text/plain": [
              "['_EDGE_OK',\n",
              " '_NODE_OK',\n",
              " '__class__',\n",
              " '__contains__',\n",
              " '__delattr__',\n",
              " '__dict__',\n",
              " '__dir__',\n",
              " '__doc__',\n",
              " '__eq__',\n",
              " '__format__',\n",
              " '__ge__',\n",
              " '__getattribute__',\n",
              " '__getitem__',\n",
              " '__gt__',\n",
              " '__hash__',\n",
              " '__init__',\n",
              " '__init_subclass__',\n",
              " '__iter__',\n",
              " '__le__',\n",
              " '__len__',\n",
              " '__lt__',\n",
              " '__module__',\n",
              " '__ne__',\n",
              " '__new__',\n",
              " '__reduce__',\n",
              " '__reduce_ex__',\n",
              " '__repr__',\n",
              " '__setattr__',\n",
              " '__sizeof__',\n",
              " '__str__',\n",
              " '__subclasshook__',\n",
              " '__weakref__',\n",
              " '_adj',\n",
              " '_graph',\n",
              " '_node',\n",
              " 'add_edge',\n",
              " 'add_edges_from',\n",
              " 'add_node',\n",
              " 'add_nodes_from',\n",
              " 'add_weighted_edges_from',\n",
              " 'adj',\n",
              " 'adjacency',\n",
              " 'adjlist_inner_dict_factory',\n",
              " 'adjlist_outer_dict_factory',\n",
              " 'clear',\n",
              " 'clear_edges',\n",
              " 'copy',\n",
              " 'degree',\n",
              " 'edge_attr_dict_factory',\n",
              " 'edge_subgraph',\n",
              " 'edges',\n",
              " 'frozen',\n",
              " 'get_edge_data',\n",
              " 'graph',\n",
              " 'graph_attr_dict_factory',\n",
              " 'has_edge',\n",
              " 'has_node',\n",
              " 'is_directed',\n",
              " 'is_multigraph',\n",
              " 'name',\n",
              " 'nbunch_iter',\n",
              " 'neighbors',\n",
              " 'node_attr_dict_factory',\n",
              " 'node_dict_factory',\n",
              " 'nodes',\n",
              " 'number_of_edges',\n",
              " 'number_of_nodes',\n",
              " 'order',\n",
              " 'remove_edge',\n",
              " 'remove_edges_from',\n",
              " 'remove_node',\n",
              " 'remove_nodes_from',\n",
              " 'size',\n",
              " 'subgraph',\n",
              " 'to_directed',\n",
              " 'to_directed_class',\n",
              " 'to_undirected',\n",
              " 'to_undirected_class',\n",
              " 'update']"
            ]
          },
          "metadata": {},
          "execution_count": 102
        }
      ]
    },
    {
      "cell_type": "code",
      "source": [
        "print(g)\n",
        "type(g),type(G1)"
      ],
      "metadata": {
        "colab": {
          "base_uri": "https://localhost:8080/"
        },
        "id": "5BVGh5WCZyrA",
        "outputId": "aa922549-e7da-4f6f-b2ea-b167498abfdc"
      },
      "execution_count": null,
      "outputs": [
        {
          "output_type": "stream",
          "name": "stdout",
          "text": [
            "Graph with 825 nodes and 3386 edges\n"
          ]
        },
        {
          "output_type": "execute_result",
          "data": {
            "text/plain": [
              "(networkx.classes.graph.Graph, networkx.classes.graph.Graph)"
            ]
          },
          "metadata": {},
          "execution_count": 103
        }
      ]
    },
    {
      "cell_type": "code",
      "source": [
        "#Debes revisarlo por que funciona asi\n",
        "g.number_of_nodes()"
      ],
      "metadata": {
        "colab": {
          "base_uri": "https://localhost:8080/"
        },
        "id": "VWit40WIbHjc",
        "outputId": "56a63857-e136-4e69-b605-4a574fc40eee"
      },
      "execution_count": null,
      "outputs": [
        {
          "output_type": "execute_result",
          "data": {
            "text/plain": [
              "825"
            ]
          },
          "metadata": {},
          "execution_count": 84
        }
      ]
    },
    {
      "cell_type": "code",
      "source": [
        "len(g)"
      ],
      "metadata": {
        "colab": {
          "base_uri": "https://localhost:8080/"
        },
        "id": "zOjI-upRfEkR",
        "outputId": "de82b7be-fdd6-41fd-d3fd-edefc2653bd3"
      },
      "execution_count": null,
      "outputs": [
        {
          "output_type": "execute_result",
          "data": {
            "text/plain": [
              "825"
            ]
          },
          "metadata": {},
          "execution_count": 109
        }
      ]
    },
    {
      "cell_type": "code",
      "source": [
        "l=list(range(3))\n",
        "l"
      ],
      "metadata": {
        "colab": {
          "base_uri": "https://localhost:8080/"
        },
        "id": "5CqX_xhmsr94",
        "outputId": "566e3894-ef25-439b-a8fd-591a7d2620c8"
      },
      "execution_count": null,
      "outputs": [
        {
          "output_type": "execute_result",
          "data": {
            "text/plain": [
              "[0, 1, 2]"
            ]
          },
          "metadata": {},
          "execution_count": 112
        }
      ]
    },
    {
      "cell_type": "code",
      "source": [
        "len(G1)"
      ],
      "metadata": {
        "colab": {
          "base_uri": "https://localhost:8080/"
        },
        "id": "Pxc9Mpbfs2Yb",
        "outputId": "9a0ac29d-d44d-4138-976c-7d83d06360d2"
      },
      "execution_count": null,
      "outputs": [
        {
          "output_type": "execute_result",
          "data": {
            "text/plain": [
              "843"
            ]
          },
          "metadata": {},
          "execution_count": 115
        }
      ]
    },
    {
      "cell_type": "code",
      "source": [
        "print(G1)"
      ],
      "metadata": {
        "colab": {
          "base_uri": "https://localhost:8080/"
        },
        "id": "PY8Xvm6Dtiy5",
        "outputId": "7f232c48-59b9-4e78-8173-a2bcb75c714e"
      },
      "execution_count": null,
      "outputs": [
        {
          "output_type": "stream",
          "name": "stdout",
          "text": [
            "Graph with 843 nodes and 3405 edges\n"
          ]
        }
      ]
    }
  ]
}